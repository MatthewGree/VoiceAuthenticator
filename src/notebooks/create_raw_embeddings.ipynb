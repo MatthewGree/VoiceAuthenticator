{
 "cells": [
  {
   "cell_type": "code",
   "id": "initial_id",
   "metadata": {
    "collapsed": true,
    "ExecuteTime": {
     "end_time": "2024-05-11T19:17:39.973961Z",
     "start_time": "2024-05-11T19:17:39.971269Z"
    }
   },
   "source": [
    "from pathlib import Path\n",
    "from typing import List\n",
    "\n",
    "from more_itertools import chunked\n",
    "import pandas as pd\n",
    "import torch\n",
    "\n",
    "from src.config.project_paths import get_data_file_path, get_model_save_dir, get_project_root_path\n",
    "from speechbrain.inference.speaker import EncoderClassifier\n",
    "from src.embedding.create_embedding import batch_create_speechbrain_embedding\n",
    "from src.embedding.embedded_audio import EmbeddedAudio\n",
    "from tqdm.auto import tqdm\n",
    "import pickle"
   ],
   "outputs": [],
   "execution_count": 6
  },
  {
   "metadata": {
    "ExecuteTime": {
     "end_time": "2024-05-11T19:17:40.620099Z",
     "start_time": "2024-05-11T19:17:40.616060Z"
    }
   },
   "cell_type": "code",
   "source": [
    "# device used for embedding creation\n",
    "DEVICE: torch.device = torch.device(\"cuda\" if torch.cuda.is_available() else \"cpu\")\n",
    "# pretrained model to download and use for embedded creation. must be a speechbrain model compatible\n",
    "# with EncoderClassifier class\n",
    "MODEL_NAME: str = \"speechbrain/spkrec-ecapa-voxceleb\"\n",
    "# Path to a json file, which contains relative paths to audio files\n",
    "ANNOTATION_PATH: Path = get_data_file_path(\"annotations_with_metadata.json\")\n",
    "# How many audio files to pass through the model at the same time. Must be >= 1\n",
    "BATCH_SIZE: int = 1\n",
    "# once all the embeddings are calculated, they are pickled to this path.\n",
    "EMBEDDING_PICKLE_PATH: Path = get_data_file_path(f\"raw_audio_embeddings_{MODEL_NAME.replace('/', '-')}.pkl\")"
   ],
   "id": "e0b60835e0813ab7",
   "outputs": [],
   "execution_count": 7
  },
  {
   "metadata": {
    "ExecuteTime": {
     "end_time": "2024-05-11T19:17:41.521242Z",
     "start_time": "2024-05-11T19:17:41.149214Z"
    }
   },
   "cell_type": "code",
   "source": [
    "model = EncoderClassifier.from_hparams(source=MODEL_NAME, savedir=get_model_save_dir(MODEL_NAME),\n",
    "                                       run_opts={\"device\": str(DEVICE)})"
   ],
   "id": "43565b77f47e9234",
   "outputs": [],
   "execution_count": 8
  },
  {
   "metadata": {
    "ExecuteTime": {
     "end_time": "2024-05-11T19:17:42.008476Z",
     "start_time": "2024-05-11T19:17:41.653901Z"
    }
   },
   "cell_type": "code",
   "source": [
    "annotation_df = pd.read_json(ANNOTATION_PATH, orient=\"records\")\n",
    "rel_audio_paths: List[str] = annotation_df[\"wav_path\"].to_list()\n",
    "rel_audio_path_batches = chunked(rel_audio_paths, BATCH_SIZE)"
   ],
   "id": "a5e49a59eeea8d1e",
   "outputs": [],
   "execution_count": 9
  },
  {
   "metadata": {},
   "cell_type": "code",
   "source": [
    "number_of_batches = len(rel_audio_paths) // BATCH_SIZE + (1 if len(rel_audio_paths) % BATCH_SIZE > 0 else 0)\n",
    "print(f\"Number of batches: {number_of_batches}\")"
   ],
   "id": "86fd57c5b8d14c0a",
   "outputs": [],
   "execution_count": null
  },
  {
   "metadata": {},
   "cell_type": "code",
   "source": [
    "embeddings = []\n",
    "for rel_audio_path_batch in tqdm(rel_audio_path_batches, f\"Creating embeddings\", total=number_of_batches):\n",
    "    abs_audio_path_batch = list(map(lambda rel_path: get_project_root_path() / rel_path, rel_audio_path_batch))\n",
    "    audio_embeddings = batch_create_speechbrain_embedding(model, abs_audio_path_batch)\n",
    "    embedded_audio_list = [EmbeddedAudio(audio_rel_path=audio_rel_path, embedding=embedding) for\n",
    "                           audio_rel_path, embedding in zip(rel_audio_path_batch, audio_embeddings)]\n",
    "\n",
    "    embeddings.extend(embedded_audio_list)"
   ],
   "id": "864dcf4825604940",
   "outputs": [],
   "execution_count": null
  },
  {
   "metadata": {
    "ExecuteTime": {
     "end_time": "2024-05-11T20:34:03.927322Z",
     "start_time": "2024-05-11T20:33:55.790179Z"
    }
   },
   "cell_type": "code",
   "source": [
    "with open(EMBEDDING_PICKLE_PATH, \"wb+\") as output_file:\n",
    "    pickle.dump(embeddings, output_file)"
   ],
   "id": "d134c34fc55f4dde",
   "outputs": [],
   "execution_count": 14
  }
 ],
 "metadata": {
  "kernelspec": {
   "display_name": "Python 3",
   "language": "python",
   "name": "python3"
  },
  "language_info": {
   "codemirror_mode": {
    "name": "ipython",
    "version": 2
   },
   "file_extension": ".py",
   "mimetype": "text/x-python",
   "name": "python",
   "nbconvert_exporter": "python",
   "pygments_lexer": "ipython2",
   "version": "2.7.6"
  }
 },
 "nbformat": 4,
 "nbformat_minor": 5
}
