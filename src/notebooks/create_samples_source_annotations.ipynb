{
 "cells": [
  {
   "cell_type": "code",
   "execution_count": 29,
   "metadata": {},
   "outputs": [],
   "source": [
    "from src.augmentation import add_noise\n",
    "from src.augmentation import multiply_amplitude\n",
    "from src.augmentation import subsampling\n",
    "from src.config import project_paths\n",
    "import pandas as pd\n",
    "import numpy as np\n"
   ]
  },
  {
   "cell_type": "code",
   "execution_count": 38,
   "metadata": {},
   "outputs": [],
   "source": [
    "annotation_path = project_paths.get_data_file_path(\"annotations_voxceleb2.json\")"
   ]
  },
  {
   "cell_type": "code",
   "execution_count": 39,
   "metadata": {},
   "outputs": [],
   "source": [
    "annotations = pd.read_json(annotation_path, orient=\"records\")"
   ]
  },
  {
   "cell_type": "code",
   "execution_count": 40,
   "metadata": {},
   "outputs": [
    {
     "data": {
      "text/html": [
       "<div>\n",
       "<style scoped>\n",
       "    .dataframe tbody tr th:only-of-type {\n",
       "        vertical-align: middle;\n",
       "    }\n",
       "\n",
       "    .dataframe tbody tr th {\n",
       "        vertical-align: top;\n",
       "    }\n",
       "\n",
       "    .dataframe thead th {\n",
       "        text-align: right;\n",
       "    }\n",
       "</style>\n",
       "<table border=\"1\" class=\"dataframe\">\n",
       "  <thead>\n",
       "    <tr style=\"text-align: right;\">\n",
       "      <th></th>\n",
       "      <th>wav_path</th>\n",
       "      <th>user_id</th>\n",
       "      <th>gender</th>\n",
       "    </tr>\n",
       "  </thead>\n",
       "  <tbody>\n",
       "    <tr>\n",
       "      <th>0</th>\n",
       "      <td>data/vox2_test_mp4/mp4/id08149/msudF6HwuuI/000...</td>\n",
       "      <td>id08149</td>\n",
       "      <td>f</td>\n",
       "    </tr>\n",
       "    <tr>\n",
       "      <th>1</th>\n",
       "      <td>data/vox2_test_mp4/mp4/id08149/o0Zdr9Jla7U/000...</td>\n",
       "      <td>id08149</td>\n",
       "      <td>f</td>\n",
       "    </tr>\n",
       "    <tr>\n",
       "      <th>2</th>\n",
       "      <td>data/vox2_test_mp4/mp4/id08149/o0Zdr9Jla7U/000...</td>\n",
       "      <td>id08149</td>\n",
       "      <td>f</td>\n",
       "    </tr>\n",
       "    <tr>\n",
       "      <th>3</th>\n",
       "      <td>data/vox2_test_mp4/mp4/id08149/o0Zdr9Jla7U/000...</td>\n",
       "      <td>id08149</td>\n",
       "      <td>f</td>\n",
       "    </tr>\n",
       "    <tr>\n",
       "      <th>4</th>\n",
       "      <td>data/vox2_test_mp4/mp4/id08149/vxBFGKGXSFA/000...</td>\n",
       "      <td>id08149</td>\n",
       "      <td>f</td>\n",
       "    </tr>\n",
       "  </tbody>\n",
       "</table>\n",
       "</div>"
      ],
      "text/plain": [
       "                                            wav_path  user_id gender\n",
       "0  data/vox2_test_mp4/mp4/id08149/msudF6HwuuI/000...  id08149      f\n",
       "1  data/vox2_test_mp4/mp4/id08149/o0Zdr9Jla7U/000...  id08149      f\n",
       "2  data/vox2_test_mp4/mp4/id08149/o0Zdr9Jla7U/000...  id08149      f\n",
       "3  data/vox2_test_mp4/mp4/id08149/o0Zdr9Jla7U/000...  id08149      f\n",
       "4  data/vox2_test_mp4/mp4/id08149/vxBFGKGXSFA/000...  id08149      f"
      ]
     },
     "execution_count": 40,
     "metadata": {},
     "output_type": "execute_result"
    }
   ],
   "source": [
    "annotations.head()"
   ]
  },
  {
   "cell_type": "code",
   "execution_count": 41,
   "metadata": {},
   "outputs": [],
   "source": [
    "user_counts = annotations['user_id'].value_counts()  \n",
    "least_frequent_users = user_counts.nsmallest(50).index.tolist()"
   ]
  },
  {
   "cell_type": "code",
   "execution_count": 42,
   "metadata": {},
   "outputs": [],
   "source": [
    "filtered_annotations = annotations[annotations['user_id'].isin(least_frequent_users)]"
   ]
  },
  {
   "cell_type": "code",
   "execution_count": 43,
   "metadata": {},
   "outputs": [],
   "source": [
    "limited_annotations = filtered_annotations.groupby(\"user_id\").head(10).reset_index(drop=True)"
   ]
  },
  {
   "cell_type": "code",
   "execution_count": 44,
   "metadata": {},
   "outputs": [
    {
     "data": {
      "text/plain": [
       "500"
      ]
     },
     "execution_count": 44,
     "metadata": {},
     "output_type": "execute_result"
    }
   ],
   "source": [
    "len(limited_annotations[\"user_id\"])"
   ]
  },
  {
   "cell_type": "code",
   "execution_count": 45,
   "metadata": {},
   "outputs": [],
   "source": [
    "limited_annotations.to_json(project_paths.get_data_file_path(\"annotations_500.json\"), orient=\"records\")"
   ]
  },
  {
   "cell_type": "code",
   "execution_count": 51,
   "metadata": {},
   "outputs": [],
   "source": [
    "least_frequent_users_20 = user_counts.nsmallest(20).index.tolist()\n",
    "limited_annotations_20 = limited_annotations[limited_annotations['user_id'].isin(least_frequent_users_20)]\n",
    "limited_annotations_20.to_json(project_paths.get_data_file_path(\"annotations_200.json\"), orient=\"records\")"
   ]
  },
  {
   "cell_type": "code",
   "execution_count": 50,
   "metadata": {},
   "outputs": [],
   "source": [
    "least_frequent_users_10 = user_counts.nsmallest(10).index.tolist()\n",
    "limited_annotations_10 = limited_annotations[limited_annotations['user_id'].isin(least_frequent_users_10)]\n",
    "limited_annotations_10.to_json(project_paths.get_data_file_path(\"annotations_100.json\"), orient=\"records\")"
   ]
  },
  {
   "cell_type": "code",
   "execution_count": 49,
   "metadata": {},
   "outputs": [
    {
     "data": {
      "text/plain": [
       "200"
      ]
     },
     "execution_count": 49,
     "metadata": {},
     "output_type": "execute_result"
    }
   ],
   "source": [
    "len(limited_annotations_20)"
   ]
  }
 ],
 "metadata": {
  "kernelspec": {
   "display_name": "voiceauthenticator-TPwQ4E2G-py3.11",
   "language": "python",
   "name": "python3"
  },
  "language_info": {
   "codemirror_mode": {
    "name": "ipython",
    "version": 3
   },
   "file_extension": ".py",
   "mimetype": "text/x-python",
   "name": "python",
   "nbconvert_exporter": "python",
   "pygments_lexer": "ipython3",
   "version": "3.11.9"
  }
 },
 "nbformat": 4,
 "nbformat_minor": 2
}
