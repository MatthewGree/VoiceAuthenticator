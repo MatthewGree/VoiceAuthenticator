{
 "cells": [
  {
   "cell_type": "code",
   "id": "initial_id",
   "metadata": {
    "collapsed": true,
    "ExecuteTime": {
     "end_time": "2024-05-07T22:04:08.327043Z",
     "start_time": "2024-05-07T22:04:08.324951Z"
    }
   },
   "source": [
    "from pathlib import Path\n",
    "\n",
    "from src.config.project_paths import get_metadata_csv_path, get_data_file_path, get_voxceleb_path, get_project_root_path\n",
    "from src.annotate_data.annotate_from_path import data_path_to_annotation_list\n",
    "import pandas as pd"
   ],
   "outputs": [],
   "execution_count": 16
  },
  {
   "metadata": {
    "ExecuteTime": {
     "end_time": "2024-05-07T22:04:09.231670Z",
     "start_time": "2024-05-07T22:04:09.227479Z"
    }
   },
   "cell_type": "code",
   "source": "metadata = pd.read_csv(get_metadata_csv_path(), sep='\\t')",
   "id": "fa7a9da71b734455",
   "outputs": [],
   "execution_count": 17
  },
  {
   "metadata": {
    "ExecuteTime": {
     "end_time": "2024-05-07T22:04:09.587770Z",
     "start_time": "2024-05-07T22:04:09.581580Z"
    }
   },
   "cell_type": "code",
   "source": "metadata.head()",
   "id": "29046efef49cb4d",
   "outputs": [
    {
     "data": {
      "text/plain": [
       "   user_id     user_name gender nationality  set\n",
       "0  id10001  A.J._Buckley      m     Ireland  dev\n",
       "1  id10002   A.R._Rahman      m       India  dev\n",
       "2  id10003    Aamir_Khan      m       India  dev\n",
       "3  id10004   Aaron_Tveit      m         USA  dev\n",
       "4  id10005     Aaron_Yoo      m         USA  dev"
      ],
      "text/html": [
       "<div>\n",
       "<style scoped>\n",
       "    .dataframe tbody tr th:only-of-type {\n",
       "        vertical-align: middle;\n",
       "    }\n",
       "\n",
       "    .dataframe tbody tr th {\n",
       "        vertical-align: top;\n",
       "    }\n",
       "\n",
       "    .dataframe thead th {\n",
       "        text-align: right;\n",
       "    }\n",
       "</style>\n",
       "<table border=\"1\" class=\"dataframe\">\n",
       "  <thead>\n",
       "    <tr style=\"text-align: right;\">\n",
       "      <th></th>\n",
       "      <th>user_id</th>\n",
       "      <th>user_name</th>\n",
       "      <th>gender</th>\n",
       "      <th>nationality</th>\n",
       "      <th>set</th>\n",
       "    </tr>\n",
       "  </thead>\n",
       "  <tbody>\n",
       "    <tr>\n",
       "      <th>0</th>\n",
       "      <td>id10001</td>\n",
       "      <td>A.J._Buckley</td>\n",
       "      <td>m</td>\n",
       "      <td>Ireland</td>\n",
       "      <td>dev</td>\n",
       "    </tr>\n",
       "    <tr>\n",
       "      <th>1</th>\n",
       "      <td>id10002</td>\n",
       "      <td>A.R._Rahman</td>\n",
       "      <td>m</td>\n",
       "      <td>India</td>\n",
       "      <td>dev</td>\n",
       "    </tr>\n",
       "    <tr>\n",
       "      <th>2</th>\n",
       "      <td>id10003</td>\n",
       "      <td>Aamir_Khan</td>\n",
       "      <td>m</td>\n",
       "      <td>India</td>\n",
       "      <td>dev</td>\n",
       "    </tr>\n",
       "    <tr>\n",
       "      <th>3</th>\n",
       "      <td>id10004</td>\n",
       "      <td>Aaron_Tveit</td>\n",
       "      <td>m</td>\n",
       "      <td>USA</td>\n",
       "      <td>dev</td>\n",
       "    </tr>\n",
       "    <tr>\n",
       "      <th>4</th>\n",
       "      <td>id10005</td>\n",
       "      <td>Aaron_Yoo</td>\n",
       "      <td>m</td>\n",
       "      <td>USA</td>\n",
       "      <td>dev</td>\n",
       "    </tr>\n",
       "  </tbody>\n",
       "</table>\n",
       "</div>"
      ]
     },
     "execution_count": 18,
     "metadata": {},
     "output_type": "execute_result"
    }
   ],
   "execution_count": 18
  },
  {
   "metadata": {
    "ExecuteTime": {
     "end_time": "2024-05-07T22:04:11.025321Z",
     "start_time": "2024-05-07T22:04:10.333961Z"
    }
   },
   "cell_type": "code",
   "source": "annotations_train = data_path_to_annotation_list(get_voxceleb_path(\"train\"), \"train\")",
   "id": "237a4789e19c001c",
   "outputs": [],
   "execution_count": 19
  },
  {
   "metadata": {
    "ExecuteTime": {
     "end_time": "2024-05-07T22:04:11.537089Z",
     "start_time": "2024-05-07T22:04:11.511280Z"
    }
   },
   "cell_type": "code",
   "source": "annotations_test = data_path_to_annotation_list(get_voxceleb_path(\"test\"), \"test\")",
   "id": "a6733b43970c6d65",
   "outputs": [],
   "execution_count": 20
  },
  {
   "metadata": {
    "ExecuteTime": {
     "end_time": "2024-05-07T22:04:12.156987Z",
     "start_time": "2024-05-07T22:04:12.142822Z"
    }
   },
   "cell_type": "code",
   "source": "all_annotations = [*annotations_train, *annotations_test]",
   "id": "bd9791b8f9838b36",
   "outputs": [],
   "execution_count": 21
  },
  {
   "metadata": {
    "ExecuteTime": {
     "end_time": "2024-05-07T22:04:12.930482Z",
     "start_time": "2024-05-07T22:04:12.877692Z"
    }
   },
   "cell_type": "code",
   "source": "annotations_df = pd.DataFrame(all_annotations)",
   "id": "9b24ba8edc485f",
   "outputs": [],
   "execution_count": 22
  },
  {
   "metadata": {
    "ExecuteTime": {
     "end_time": "2024-05-07T22:04:13.553713Z",
     "start_time": "2024-05-07T22:04:13.549243Z"
    }
   },
   "cell_type": "code",
   "source": "annotations_df.head()",
   "id": "9e006d6f56f7f4dd",
   "outputs": [
    {
     "data": {
      "text/plain": [
       "                                            wav_path  user_id  split\n",
       "0  /home/mateusz/ai/biometry/VoiceAuthenticatior/...  id10092  train\n",
       "1  /home/mateusz/ai/biometry/VoiceAuthenticatior/...  id10092  train\n",
       "2  /home/mateusz/ai/biometry/VoiceAuthenticatior/...  id10092  train\n",
       "3  /home/mateusz/ai/biometry/VoiceAuthenticatior/...  id10092  train\n",
       "4  /home/mateusz/ai/biometry/VoiceAuthenticatior/...  id10092  train"
      ],
      "text/html": [
       "<div>\n",
       "<style scoped>\n",
       "    .dataframe tbody tr th:only-of-type {\n",
       "        vertical-align: middle;\n",
       "    }\n",
       "\n",
       "    .dataframe tbody tr th {\n",
       "        vertical-align: top;\n",
       "    }\n",
       "\n",
       "    .dataframe thead th {\n",
       "        text-align: right;\n",
       "    }\n",
       "</style>\n",
       "<table border=\"1\" class=\"dataframe\">\n",
       "  <thead>\n",
       "    <tr style=\"text-align: right;\">\n",
       "      <th></th>\n",
       "      <th>wav_path</th>\n",
       "      <th>user_id</th>\n",
       "      <th>split</th>\n",
       "    </tr>\n",
       "  </thead>\n",
       "  <tbody>\n",
       "    <tr>\n",
       "      <th>0</th>\n",
       "      <td>/home/mateusz/ai/biometry/VoiceAuthenticatior/...</td>\n",
       "      <td>id10092</td>\n",
       "      <td>train</td>\n",
       "    </tr>\n",
       "    <tr>\n",
       "      <th>1</th>\n",
       "      <td>/home/mateusz/ai/biometry/VoiceAuthenticatior/...</td>\n",
       "      <td>id10092</td>\n",
       "      <td>train</td>\n",
       "    </tr>\n",
       "    <tr>\n",
       "      <th>2</th>\n",
       "      <td>/home/mateusz/ai/biometry/VoiceAuthenticatior/...</td>\n",
       "      <td>id10092</td>\n",
       "      <td>train</td>\n",
       "    </tr>\n",
       "    <tr>\n",
       "      <th>3</th>\n",
       "      <td>/home/mateusz/ai/biometry/VoiceAuthenticatior/...</td>\n",
       "      <td>id10092</td>\n",
       "      <td>train</td>\n",
       "    </tr>\n",
       "    <tr>\n",
       "      <th>4</th>\n",
       "      <td>/home/mateusz/ai/biometry/VoiceAuthenticatior/...</td>\n",
       "      <td>id10092</td>\n",
       "      <td>train</td>\n",
       "    </tr>\n",
       "  </tbody>\n",
       "</table>\n",
       "</div>"
      ]
     },
     "execution_count": 23,
     "metadata": {},
     "output_type": "execute_result"
    }
   ],
   "execution_count": 23
  },
  {
   "metadata": {
    "ExecuteTime": {
     "end_time": "2024-05-07T22:04:20.472884Z",
     "start_time": "2024-05-07T22:04:18.962284Z"
    }
   },
   "cell_type": "code",
   "source": [
    "annotations_df[\"wav_path\"] = annotations_df[\"wav_path\"].apply(\n",
    "    lambda abs_path: str(\n",
    "        Path(abs_path).relative_to(get_project_root_path())\n",
    "    )\n",
    ")"
   ],
   "id": "a7487b12a3640e06",
   "outputs": [],
   "execution_count": 24
  },
  {
   "metadata": {
    "ExecuteTime": {
     "end_time": "2024-05-07T22:04:21.227664Z",
     "start_time": "2024-05-07T22:04:21.222912Z"
    }
   },
   "cell_type": "code",
   "source": "annotations_df.head()",
   "id": "33616171240e4c4b",
   "outputs": [
    {
     "data": {
      "text/plain": [
       "                                            wav_path  user_id  split\n",
       "0  data/vox1_dev_wav/wav/id10092/LbVIZMrQGmQ/0000...  id10092  train\n",
       "1  data/vox1_dev_wav/wav/id10092/LbVIZMrQGmQ/0000...  id10092  train\n",
       "2  data/vox1_dev_wav/wav/id10092/LbVIZMrQGmQ/0000...  id10092  train\n",
       "3  data/vox1_dev_wav/wav/id10092/9YDXIU5SmUo/0000...  id10092  train\n",
       "4  data/vox1_dev_wav/wav/id10092/9YDXIU5SmUo/0000...  id10092  train"
      ],
      "text/html": [
       "<div>\n",
       "<style scoped>\n",
       "    .dataframe tbody tr th:only-of-type {\n",
       "        vertical-align: middle;\n",
       "    }\n",
       "\n",
       "    .dataframe tbody tr th {\n",
       "        vertical-align: top;\n",
       "    }\n",
       "\n",
       "    .dataframe thead th {\n",
       "        text-align: right;\n",
       "    }\n",
       "</style>\n",
       "<table border=\"1\" class=\"dataframe\">\n",
       "  <thead>\n",
       "    <tr style=\"text-align: right;\">\n",
       "      <th></th>\n",
       "      <th>wav_path</th>\n",
       "      <th>user_id</th>\n",
       "      <th>split</th>\n",
       "    </tr>\n",
       "  </thead>\n",
       "  <tbody>\n",
       "    <tr>\n",
       "      <th>0</th>\n",
       "      <td>data/vox1_dev_wav/wav/id10092/LbVIZMrQGmQ/0000...</td>\n",
       "      <td>id10092</td>\n",
       "      <td>train</td>\n",
       "    </tr>\n",
       "    <tr>\n",
       "      <th>1</th>\n",
       "      <td>data/vox1_dev_wav/wav/id10092/LbVIZMrQGmQ/0000...</td>\n",
       "      <td>id10092</td>\n",
       "      <td>train</td>\n",
       "    </tr>\n",
       "    <tr>\n",
       "      <th>2</th>\n",
       "      <td>data/vox1_dev_wav/wav/id10092/LbVIZMrQGmQ/0000...</td>\n",
       "      <td>id10092</td>\n",
       "      <td>train</td>\n",
       "    </tr>\n",
       "    <tr>\n",
       "      <th>3</th>\n",
       "      <td>data/vox1_dev_wav/wav/id10092/9YDXIU5SmUo/0000...</td>\n",
       "      <td>id10092</td>\n",
       "      <td>train</td>\n",
       "    </tr>\n",
       "    <tr>\n",
       "      <th>4</th>\n",
       "      <td>data/vox1_dev_wav/wav/id10092/9YDXIU5SmUo/0000...</td>\n",
       "      <td>id10092</td>\n",
       "      <td>train</td>\n",
       "    </tr>\n",
       "  </tbody>\n",
       "</table>\n",
       "</div>"
      ]
     },
     "execution_count": 25,
     "metadata": {},
     "output_type": "execute_result"
    }
   ],
   "execution_count": 25
  },
  {
   "metadata": {
    "ExecuteTime": {
     "end_time": "2024-05-07T22:04:24.622189Z",
     "start_time": "2024-05-07T22:04:24.588206Z"
    }
   },
   "cell_type": "code",
   "source": "annotations_with_metadata = pd.merge(annotations_df, metadata, on=\"user_id\", how=\"left\")",
   "id": "ae4f3825414e719f",
   "outputs": [],
   "execution_count": 26
  },
  {
   "metadata": {
    "ExecuteTime": {
     "end_time": "2024-05-07T22:04:27.375668Z",
     "start_time": "2024-05-07T22:04:27.366317Z"
    }
   },
   "cell_type": "code",
   "source": "annotations_with_metadata.head(5)",
   "id": "323e8dc02cafa4ef",
   "outputs": [
    {
     "data": {
      "text/plain": [
       "                                            wav_path  user_id  split  \\\n",
       "0  data/vox1_dev_wav/wav/id10092/LbVIZMrQGmQ/0000...  id10092  train   \n",
       "1  data/vox1_dev_wav/wav/id10092/LbVIZMrQGmQ/0000...  id10092  train   \n",
       "2  data/vox1_dev_wav/wav/id10092/LbVIZMrQGmQ/0000...  id10092  train   \n",
       "3  data/vox1_dev_wav/wav/id10092/9YDXIU5SmUo/0000...  id10092  train   \n",
       "4  data/vox1_dev_wav/wav/id10092/9YDXIU5SmUo/0000...  id10092  train   \n",
       "\n",
       "     user_name gender nationality  set  \n",
       "0  Bingbing_Li      f       China  dev  \n",
       "1  Bingbing_Li      f       China  dev  \n",
       "2  Bingbing_Li      f       China  dev  \n",
       "3  Bingbing_Li      f       China  dev  \n",
       "4  Bingbing_Li      f       China  dev  "
      ],
      "text/html": [
       "<div>\n",
       "<style scoped>\n",
       "    .dataframe tbody tr th:only-of-type {\n",
       "        vertical-align: middle;\n",
       "    }\n",
       "\n",
       "    .dataframe tbody tr th {\n",
       "        vertical-align: top;\n",
       "    }\n",
       "\n",
       "    .dataframe thead th {\n",
       "        text-align: right;\n",
       "    }\n",
       "</style>\n",
       "<table border=\"1\" class=\"dataframe\">\n",
       "  <thead>\n",
       "    <tr style=\"text-align: right;\">\n",
       "      <th></th>\n",
       "      <th>wav_path</th>\n",
       "      <th>user_id</th>\n",
       "      <th>split</th>\n",
       "      <th>user_name</th>\n",
       "      <th>gender</th>\n",
       "      <th>nationality</th>\n",
       "      <th>set</th>\n",
       "    </tr>\n",
       "  </thead>\n",
       "  <tbody>\n",
       "    <tr>\n",
       "      <th>0</th>\n",
       "      <td>data/vox1_dev_wav/wav/id10092/LbVIZMrQGmQ/0000...</td>\n",
       "      <td>id10092</td>\n",
       "      <td>train</td>\n",
       "      <td>Bingbing_Li</td>\n",
       "      <td>f</td>\n",
       "      <td>China</td>\n",
       "      <td>dev</td>\n",
       "    </tr>\n",
       "    <tr>\n",
       "      <th>1</th>\n",
       "      <td>data/vox1_dev_wav/wav/id10092/LbVIZMrQGmQ/0000...</td>\n",
       "      <td>id10092</td>\n",
       "      <td>train</td>\n",
       "      <td>Bingbing_Li</td>\n",
       "      <td>f</td>\n",
       "      <td>China</td>\n",
       "      <td>dev</td>\n",
       "    </tr>\n",
       "    <tr>\n",
       "      <th>2</th>\n",
       "      <td>data/vox1_dev_wav/wav/id10092/LbVIZMrQGmQ/0000...</td>\n",
       "      <td>id10092</td>\n",
       "      <td>train</td>\n",
       "      <td>Bingbing_Li</td>\n",
       "      <td>f</td>\n",
       "      <td>China</td>\n",
       "      <td>dev</td>\n",
       "    </tr>\n",
       "    <tr>\n",
       "      <th>3</th>\n",
       "      <td>data/vox1_dev_wav/wav/id10092/9YDXIU5SmUo/0000...</td>\n",
       "      <td>id10092</td>\n",
       "      <td>train</td>\n",
       "      <td>Bingbing_Li</td>\n",
       "      <td>f</td>\n",
       "      <td>China</td>\n",
       "      <td>dev</td>\n",
       "    </tr>\n",
       "    <tr>\n",
       "      <th>4</th>\n",
       "      <td>data/vox1_dev_wav/wav/id10092/9YDXIU5SmUo/0000...</td>\n",
       "      <td>id10092</td>\n",
       "      <td>train</td>\n",
       "      <td>Bingbing_Li</td>\n",
       "      <td>f</td>\n",
       "      <td>China</td>\n",
       "      <td>dev</td>\n",
       "    </tr>\n",
       "  </tbody>\n",
       "</table>\n",
       "</div>"
      ]
     },
     "execution_count": 27,
     "metadata": {},
     "output_type": "execute_result"
    }
   ],
   "execution_count": 27
  },
  {
   "metadata": {
    "ExecuteTime": {
     "end_time": "2024-05-07T22:04:32.989285Z",
     "start_time": "2024-05-07T22:04:32.761919Z"
    }
   },
   "cell_type": "code",
   "source": "annotations_with_metadata.to_json(get_data_file_path(\"annotations_with_metadata.json\"), orient=\"records\")",
   "id": "3bf79a1e858282d9",
   "outputs": [],
   "execution_count": 28
  }
 ],
 "metadata": {
  "kernelspec": {
   "display_name": "Python 3",
   "language": "python",
   "name": "python3"
  },
  "language_info": {
   "codemirror_mode": {
    "name": "ipython",
    "version": 2
   },
   "file_extension": ".py",
   "mimetype": "text/x-python",
   "name": "python",
   "nbconvert_exporter": "python",
   "pygments_lexer": "ipython2",
   "version": "2.7.6"
  }
 },
 "nbformat": 4,
 "nbformat_minor": 5
}
