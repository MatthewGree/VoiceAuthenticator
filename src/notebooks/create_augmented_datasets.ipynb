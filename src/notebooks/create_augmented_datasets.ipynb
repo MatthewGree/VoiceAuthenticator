{
 "cells": [
  {
   "cell_type": "code",
   "execution_count": 1,
   "metadata": {},
   "outputs": [],
   "source": [
    "from src.augmentation import add_noise\n",
    "from src.augmentation import multiply_amplitude\n",
    "from src.augmentation import subsampling\n",
    "from src.config import project_paths\n",
    "from pathlib import Path\n",
    "import pandas as pd\n",
    "import numpy as np\n",
    "from copy import deepcopy\n",
    "from typing import Dict, List\n",
    "from uuid import uuid4"
   ]
  },
  {
   "cell_type": "markdown",
   "metadata": {},
   "source": [
    "## Multiply amplitude set"
   ]
  },
  {
   "cell_type": "code",
   "execution_count": 6,
   "metadata": {},
   "outputs": [],
   "source": [
    "sample_annotations_path = project_paths.get_data_file_path(data_file=\"annotations_500.json\")\n",
    "sample_annotations: List[Dict[str, str]] = list(pd.read_json(sample_annotations_path, orient=\"records\").to_dict(orient=\"index\").values())\n",
    "amplitude_dir = project_paths.get_data_file_path(\"amplitude_audio_files\")\n",
    "amplitude_dir.mkdir(exist_ok=True)\n",
    "\n"
   ]
  },
  {
   "cell_type": "markdown",
   "metadata": {},
   "source": [
    "* Modify audio files and create annotations"
   ]
  },
  {
   "cell_type": "code",
   "execution_count": 7,
   "metadata": {},
   "outputs": [],
   "source": [
    "amplitude_annotations = []\n",
    "for annotation in sample_annotations:\n",
    "    rel_audio_path = Path(annotation[\"wav_path\"])\n",
    "    abs_audio_path = project_paths.get_project_root_path() / rel_audio_path\n",
    "    abs_target_audio_path = amplitude_dir / (uuid4().hex + rel_audio_path.name)\n",
    "    multiply_amplitude.multiply_amplitude(source_file_path=abs_audio_path, target_file_path=abs_target_audio_path)\n",
    "    subsampling_annotation = deepcopy(annotation)\n",
    "    subsampling_annotation[\"wav_path\"] = abs_target_audio_path.relative_to(project_paths.get_project_root_path())\n",
    "    subsampling_annotation[\"original_wav_path\"] = rel_audio_path\n",
    "    amplitude_annotations.append(subsampling_annotation)"
   ]
  },
  {
   "cell_type": "code",
   "execution_count": 8,
   "metadata": {},
   "outputs": [],
   "source": [
    "pd.DataFrame(amplitude_annotations).to_json(project_paths.get_data_file_path(\"annotations_multiply_amplitude.json\"),orient=\"records\",default_handler=str)"
   ]
  },
  {
   "cell_type": "code",
   "execution_count": null,
   "metadata": {},
   "outputs": [],
   "source": []
  },
  {
   "cell_type": "markdown",
   "metadata": {},
   "source": [
    "## Subsampling"
   ]
  },
  {
   "cell_type": "code",
   "execution_count": 2,
   "metadata": {},
   "outputs": [],
   "source": [
    "subsampling_sample_annotations_path = project_paths.get_data_file_path(data_file=\"annotations_200.json\")\n",
    "subsampling_sample_annotations: List[Dict[str, str]] = list(pd.read_json(subsampling_sample_annotations_path, orient=\"records\").to_dict(orient=\"index\").values())\n",
    "subsampling_dir = project_paths.get_data_file_path(\"subsampling_audio_files\")\n",
    "subsampling_dir.mkdir(exist_ok=True)"
   ]
  },
  {
   "cell_type": "markdown",
   "metadata": {},
   "source": [
    "* 16000 Hz -> 8000 Hz"
   ]
  },
  {
   "cell_type": "code",
   "execution_count": 6,
   "metadata": {},
   "outputs": [],
   "source": [
    "subsampling_8000_dir = subsampling_dir / \"eight_thousand\"\n",
    "subsampling_8000_dir.mkdir(exist_ok=True)"
   ]
  },
  {
   "cell_type": "code",
   "execution_count": 8,
   "metadata": {},
   "outputs": [],
   "source": [
    "subsampling_8000_annotations = []\n",
    "for annotation in subsampling_sample_annotations:\n",
    "    rel_audio_path = Path(annotation[\"wav_path\"])\n",
    "    abs_audio_path = project_paths.get_project_root_path() / rel_audio_path\n",
    "    abs_target_audio_path = subsampling_8000_dir / (uuid4().hex + rel_audio_path.name)\n",
    "    subsampling.subsampling_audio(abs_audio_path, abs_target_audio_path, 2)\n",
    "    subsampling_annotation = deepcopy(annotation)\n",
    "    subsampling_annotation[\"wav_path\"] = abs_target_audio_path.relative_to(project_paths.get_project_root_path())\n",
    "    subsampling_annotation[\"original_wav_path\"] = rel_audio_path\n",
    "    subsampling_8000_annotations.append(subsampling_annotation)"
   ]
  },
  {
   "cell_type": "code",
   "execution_count": 9,
   "metadata": {},
   "outputs": [],
   "source": [
    "pd.DataFrame(subsampling_8000_annotations).to_json(project_paths.get_data_file_path(\"annotations_subsampling_8000.json\"),orient=\"records\",default_handler=str)"
   ]
  },
  {
   "cell_type": "markdown",
   "metadata": {},
   "source": [
    "* 16000 Hz -> 3200 Hz"
   ]
  },
  {
   "cell_type": "code",
   "execution_count": 12,
   "metadata": {},
   "outputs": [],
   "source": [
    "subsampling_3200_dir = subsampling_dir / \"three_thousand_200\"\n",
    "subsampling_3200_dir.mkdir(exist_ok=True)"
   ]
  },
  {
   "cell_type": "code",
   "execution_count": 13,
   "metadata": {},
   "outputs": [],
   "source": [
    "subsampling_3200_annotations = []\n",
    "for annotation in subsampling_sample_annotations:\n",
    "    rel_audio_path = Path(annotation[\"wav_path\"])\n",
    "    abs_audio_path = project_paths.get_project_root_path() / rel_audio_path\n",
    "    abs_target_audio_path = subsampling_3200_dir / (uuid4().hex + rel_audio_path.name)\n",
    "    subsampling.subsampling_audio(abs_audio_path, abs_target_audio_path, 5)\n",
    "    subsampling_annotation = deepcopy(annotation)\n",
    "    subsampling_annotation[\"wav_path\"] = abs_target_audio_path.relative_to(project_paths.get_project_root_path())\n",
    "    subsampling_annotation[\"original_wav_path\"] = rel_audio_path\n",
    "    subsampling_3200_annotations.append(subsampling_annotation)"
   ]
  },
  {
   "cell_type": "code",
   "execution_count": 14,
   "metadata": {},
   "outputs": [],
   "source": [
    "pd.DataFrame(subsampling_3200_annotations).to_json(project_paths.get_data_file_path(\"annotations_subsampling_3200.json\"),orient=\"records\",default_handler=str)"
   ]
  },
  {
   "cell_type": "markdown",
   "metadata": {},
   "source": [
    "* 16000 Hz -> 1600 Hz"
   ]
  },
  {
   "cell_type": "code",
   "execution_count": 24,
   "metadata": {},
   "outputs": [],
   "source": [
    "subsampling_1600_dir = subsampling_dir / \"one_thousand_600\"\n",
    "subsampling_1600_dir.mkdir(exist_ok=True)"
   ]
  },
  {
   "cell_type": "code",
   "execution_count": 25,
   "metadata": {},
   "outputs": [],
   "source": [
    "subsampling_1600_annotations = []\n",
    "for annotation in subsampling_sample_annotations:\n",
    "    rel_audio_path = Path(annotation[\"wav_path\"])\n",
    "    abs_audio_path = project_paths.get_project_root_path() / rel_audio_path\n",
    "    abs_target_audio_path = subsampling_1600_dir / (uuid4().hex + rel_audio_path.name)\n",
    "    subsampling.subsampling_audio(abs_audio_path, abs_target_audio_path, 10)\n",
    "    subsampling_annotation = deepcopy(annotation)\n",
    "    subsampling_annotation[\"wav_path\"] = abs_target_audio_path.relative_to(project_paths.get_project_root_path())\n",
    "    subsampling_annotation[\"original_wav_path\"] = rel_audio_path\n",
    "    subsampling_1600_annotations.append(subsampling_annotation)"
   ]
  },
  {
   "cell_type": "code",
   "execution_count": 26,
   "metadata": {},
   "outputs": [],
   "source": [
    "pd.DataFrame(subsampling_1600_annotations).to_json(project_paths.get_data_file_path(\"annotations_subsampling_1600.json\"),orient=\"records\",default_handler=str)"
   ]
  },
  {
   "cell_type": "markdown",
   "metadata": {},
   "source": [
    "## Gaussian noise"
   ]
  },
  {
   "cell_type": "code",
   "execution_count": 18,
   "metadata": {},
   "outputs": [],
   "source": [
    "gaussian_sample_annotations_path = project_paths.get_data_file_path(data_file=\"annotations_100.json\")\n",
    "gaussian_sample_annotations: List[Dict[str, str]] = list(pd.read_json(gaussian_sample_annotations_path, orient=\"records\").to_dict(orient=\"index\").values())\n",
    "gaussian_dir = project_paths.get_data_file_path(\"gaussian_audio_files\")\n",
    "gaussian_dir.mkdir(exist_ok=True)"
   ]
  },
  {
   "cell_type": "code",
   "execution_count": 19,
   "metadata": {},
   "outputs": [],
   "source": [
    "means = [0, 0, 5]\n",
    "stds = [1, 10, 1]\n",
    "\n",
    "for mean, std in zip(means, stds):\n",
    "    gaussian_subdir = gaussian_dir / f\"mean_{mean}_std_{std}\"\n",
    "    gaussian_subdir.mkdir(exist_ok=True)\n",
    "    gaussian_annotations = []\n",
    "    for annotation in gaussian_sample_annotations:\n",
    "        rel_audio_path = Path(annotation[\"wav_path\"])\n",
    "        abs_audio_path = project_paths.get_project_root_path() / rel_audio_path\n",
    "        abs_target_audio_path = gaussian_subdir / (uuid4().hex + rel_audio_path.name)\n",
    "        add_noise.add_gaussian_noise(abs_audio_path, abs_target_audio_path, loc=mean, scale=std)\n",
    "        gaussian_annotation = deepcopy(annotation)\n",
    "        gaussian_annotation[\"wav_path\"] = abs_target_audio_path.relative_to(project_paths.get_project_root_path())\n",
    "        gaussian_annotation[\"original_wav_path\"] = rel_audio_path\n",
    "        gaussian_annotations.append(gaussian_annotation)\n",
    "    pd.DataFrame(gaussian_annotations).to_json(project_paths.get_data_file_path(f\"annotations_gaussian_mean_{mean}_std_{std}.json\"),orient=\"records\",default_handler=str)\n",
    "    "
   ]
  },
  {
   "cell_type": "markdown",
   "metadata": {},
   "source": [
    "## Dog"
   ]
  },
  {
   "cell_type": "code",
   "execution_count": 20,
   "metadata": {},
   "outputs": [],
   "source": [
    "dog_sample_annotations_path = project_paths.get_data_file_path(data_file=\"annotations_100.json\")\n",
    "dog_sample_annotations: List[Dict[str, str]] = list(pd.read_json(dog_sample_annotations_path, orient=\"records\").to_dict(orient=\"index\").values())\n",
    "dog_dir = project_paths.get_data_file_path(\"dog_audio_files\")\n",
    "dog_dir.mkdir(exist_ok=True)"
   ]
  },
  {
   "cell_type": "code",
   "execution_count": 21,
   "metadata": {},
   "outputs": [],
   "source": [
    "dog_annotations = []\n",
    "for annotation in dog_sample_annotations:\n",
    "    rel_audio_path = Path(annotation[\"wav_path\"])\n",
    "    abs_audio_path = project_paths.get_project_root_path() / rel_audio_path\n",
    "    abs_target_audio_path = dog_dir / (uuid4().hex + rel_audio_path.name)\n",
    "    add_noise.add_noise_from_file(abs_audio_path, abs_target_audio_path, noise_file_path=project_paths.get_project_root_path() / \"data\" / \"labrador-barking.wav\")\n",
    "    dog_annotation = deepcopy(annotation)\n",
    "    dog_annotation[\"wav_path\"] = abs_target_audio_path.relative_to(project_paths.get_project_root_path())\n",
    "    dog_annotation[\"original_wav_path\"] = rel_audio_path\n",
    "    dog_annotations.append(dog_annotation)"
   ]
  },
  {
   "cell_type": "code",
   "execution_count": 22,
   "metadata": {},
   "outputs": [],
   "source": [
    "pd.DataFrame(dog_annotations).to_json(project_paths.get_data_file_path(\"annotations_dog.json\"),orient=\"records\",default_handler=str)"
   ]
  }
 ],
 "metadata": {
  "kernelspec": {
   "display_name": "voiceauthenticator-TPwQ4E2G-py3.11",
   "language": "python",
   "name": "python3"
  },
  "language_info": {
   "codemirror_mode": {
    "name": "ipython",
    "version": 3
   },
   "file_extension": ".py",
   "mimetype": "text/x-python",
   "name": "python",
   "nbconvert_exporter": "python",
   "pygments_lexer": "ipython3",
   "version": "3.11.9"
  }
 },
 "nbformat": 4,
 "nbformat_minor": 2
}
