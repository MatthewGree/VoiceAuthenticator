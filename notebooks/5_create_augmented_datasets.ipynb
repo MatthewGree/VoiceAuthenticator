{
 "cells": [
  {
   "cell_type": "code",
   "execution_count": 24,
   "metadata": {},
   "outputs": [],
   "source": [
    "import sys\n",
    "sys.path.append(\"../\")\n",
    "\n",
    "from src.augmentation import add_noise\n",
    "from src.config import project_paths\n",
    "from pathlib import Path\n",
    "import pandas as pd\n",
    "from copy import deepcopy\n",
    "from typing import Dict, List\n",
    "import os\n",
    "from tqdm import tqdm"
   ]
  },
  {
   "cell_type": "code",
   "execution_count": 2,
   "metadata": {},
   "outputs": [],
   "source": [
    "sample_annotations_path = project_paths.get_data_file_path(data_file=\"annotations_original.json\")\n",
    "sample_annotations: List[Dict[str, str]] = list(pd.read_json(sample_annotations_path, orient=\"records\").to_dict(orient=\"index\").values())\n",
    "amplitude_dir = project_paths.get_data_file_path(\"amplitude_audio_files\")\n",
    "amplitude_dir.mkdir(exist_ok=True)"
   ]
  },
  {
   "cell_type": "code",
   "execution_count": 31,
   "metadata": {},
   "outputs": [
    {
     "name": "stderr",
     "output_type": "stream",
     "text": [
      "100%|██████████| 1341/1341 [00:25<00:00, 51.73it/s]\n"
     ]
    }
   ],
   "source": [
    "amplitude_annotations = []\n",
    "for annotation in tqdm(sample_annotations, total=len(sample_annotations)):\n",
    "    rel_audio_path = Path(f\"../\" + annotation[\"wav_path\"])\n",
    "    abs_audio_path = Path(f\"../data/generated/amplitude_audio_files\") / Path(*rel_audio_path.parts[-3:])\n",
    "    os.makedirs(os.path.dirname(abs_audio_path), exist_ok=True)\n",
    "    add_noise.add_more_gaussian_noise(audio_file_path=rel_audio_path, target_file_path=abs_audio_path)\n",
    "    subsampling_annotation = deepcopy(annotation)\n",
    "    subsampling_annotation[\"wav_path\"] = Path(*abs_audio_path.parts[1:])\n",
    "    subsampling_annotation[\"original_wav_path\"] = rel_audio_path\n",
    "    amplitude_annotations.append(subsampling_annotation)"
   ]
  },
  {
   "cell_type": "code",
   "execution_count": 32,
   "metadata": {},
   "outputs": [
    {
     "data": {
      "text/plain": [
       "1341"
      ]
     },
     "execution_count": 32,
     "metadata": {},
     "output_type": "execute_result"
    }
   ],
   "source": [
    "len(amplitude_annotations)"
   ]
  },
  {
   "cell_type": "code",
   "execution_count": 33,
   "metadata": {},
   "outputs": [],
   "source": [
    "pd.DataFrame(amplitude_annotations).to_json(project_paths.get_data_file_path(\"annotations_multiply_amplitude.json\"),orient=\"records\",default_handler=str)"
   ]
  }
 ],
 "metadata": {
  "kernelspec": {
   "display_name": "voiceauthenticator-TPwQ4E2G-py3.11",
   "language": "python",
   "name": "python3"
  },
  "language_info": {
   "codemirror_mode": {
    "name": "ipython",
    "version": 3
   },
   "file_extension": ".py",
   "mimetype": "text/x-python",
   "name": "python",
   "nbconvert_exporter": "python",
   "pygments_lexer": "ipython3",
   "version": "3.11.9"
  }
 },
 "nbformat": 4,
 "nbformat_minor": 2
}
