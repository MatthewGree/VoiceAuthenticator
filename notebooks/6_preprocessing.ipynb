{
 "cells": [
  {
   "cell_type": "code",
   "execution_count": 5,
   "metadata": {},
   "outputs": [],
   "source": [
    "import sys\n",
    "sys.path.append('../')\n",
    "\n",
    "from collections import defaultdict\n",
    "from pathlib import Path\n",
    "from typing import List, Dict\n",
    "\n",
    "from src.config.project_paths import get_voxceleb1_metadata_path, get_data_file_path, get_voxceleb_path, \\\n",
    "    get_project_root_path, get_voxceleb2_metadata_path, get_voxceleb2_path, create_wav_dir_if_not_exists, get_project_root_path, get_voxceleb2_wav_path\n",
    "from src.annotate_data.annotate_from_path import data_path_to_annotation_list\n",
    "import pandas as pd\n",
    "from src.augmentation import add_noise\n",
    "from src.config import project_paths\n",
    "from pathlib import Path\n",
    "import pandas as pd\n",
    "import numpy as np\n",
    "from copy import deepcopy\n",
    "from typing import Dict, List\n",
    "from uuid import uuid4\n",
    "import os\n",
    "import numpy as np\n",
    "from pydub import AudioSegment\n",
    "import soundfile as sf\n",
    "from src.preprocessing import gaussian_noise_reduce\n",
    "from tqdm.notebook import tqdm"
   ]
  },
  {
   "cell_type": "code",
   "execution_count": 6,
   "metadata": {},
   "outputs": [],
   "source": [
    "voxceleb2_path = get_voxceleb2_wav_path()"
   ]
  },
  {
   "cell_type": "code",
   "execution_count": 7,
   "metadata": {},
   "outputs": [],
   "source": [
    "import json\n",
    "\n",
    "file_path = \"../data/generated/annotations_multiply_amplitude.json\"\n",
    "\n",
    "with open(file_path, \"r\") as file:\n",
    "    data = json.load(file)"
   ]
  },
  {
   "cell_type": "code",
   "execution_count": 10,
   "metadata": {},
   "outputs": [
    {
     "data": {
      "application/vnd.jupyter.widget-view+json": {
       "model_id": "5a365b0bc78146debec46683b6a980c0",
       "version_major": 2,
       "version_minor": 0
      },
      "text/plain": [
       "  0%|          | 0/1341 [00:00<?, ?it/s]"
      ]
     },
     "metadata": {},
     "output_type": "display_data"
    }
   ],
   "source": [
    "for file in tqdm(data, total=len(data)):\n",
    "    augmented_file_path = f\"../{file['wav_path']}\"\n",
    "    gaussian_noise_reduce(augmented_file_path)"
   ]
  }
 ],
 "metadata": {
  "kernelspec": {
   "display_name": "biometria2",
   "language": "python",
   "name": "python3"
  },
  "language_info": {
   "codemirror_mode": {
    "name": "ipython",
    "version": 3
   },
   "file_extension": ".py",
   "mimetype": "text/x-python",
   "name": "python",
   "nbconvert_exporter": "python",
   "pygments_lexer": "ipython3",
   "version": "3.11.9"
  }
 },
 "nbformat": 4,
 "nbformat_minor": 2
}
