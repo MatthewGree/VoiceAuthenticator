{
 "cells": [
  {
   "cell_type": "code",
   "execution_count": 4,
   "id": "initial_id",
   "metadata": {
    "ExecuteTime": {
     "end_time": "2024-05-12T11:34:44.482369Z",
     "start_time": "2024-05-12T11:34:44.479021Z"
    },
    "collapsed": true
   },
   "outputs": [],
   "source": [
    "import sys\n",
    "sys.path.append('../')\n",
    "\n",
    "from typing import List, Dict\n",
    "\n",
    "from src.config.project_paths import  get_data_file_path, \\\n",
    "     get_voxceleb2_metadata_path, get_voxceleb2_path, create_wav_dir_if_not_exists, get_project_root_path, get_voxceleb2_wav_path\n",
    "import pandas as pd"
   ]
  },
  {
   "cell_type": "markdown",
   "id": "8a64f6bb4520c48a",
   "metadata": {},
   "source": [
    "## VoxCeleb 2"
   ]
  },
  {
   "cell_type": "code",
   "execution_count": 5,
   "id": "846f521363f104a1",
   "metadata": {
    "ExecuteTime": {
     "end_time": "2024-05-12T11:46:25.698052Z",
     "start_time": "2024-05-12T11:46:25.684442Z"
    }
   },
   "outputs": [
    {
     "data": {
      "text/html": [
       "<div>\n",
       "<style scoped>\n",
       "    .dataframe tbody tr th:only-of-type {\n",
       "        vertical-align: middle;\n",
       "    }\n",
       "\n",
       "    .dataframe tbody tr th {\n",
       "        vertical-align: top;\n",
       "    }\n",
       "\n",
       "    .dataframe thead th {\n",
       "        text-align: right;\n",
       "    }\n",
       "</style>\n",
       "<table border=\"1\" class=\"dataframe\">\n",
       "  <thead>\n",
       "    <tr style=\"text-align: right;\">\n",
       "      <th></th>\n",
       "      <th>user_id</th>\n",
       "      <th>gender</th>\n",
       "      <th>set</th>\n",
       "    </tr>\n",
       "  </thead>\n",
       "  <tbody>\n",
       "    <tr>\n",
       "      <th>0</th>\n",
       "      <td>id00012</td>\n",
       "      <td>m</td>\n",
       "      <td>dev</td>\n",
       "    </tr>\n",
       "    <tr>\n",
       "      <th>1</th>\n",
       "      <td>id00015</td>\n",
       "      <td>m</td>\n",
       "      <td>dev</td>\n",
       "    </tr>\n",
       "    <tr>\n",
       "      <th>2</th>\n",
       "      <td>id00016</td>\n",
       "      <td>m</td>\n",
       "      <td>dev</td>\n",
       "    </tr>\n",
       "    <tr>\n",
       "      <th>3</th>\n",
       "      <td>id00017</td>\n",
       "      <td>m</td>\n",
       "      <td>test</td>\n",
       "    </tr>\n",
       "    <tr>\n",
       "      <th>4</th>\n",
       "      <td>id00018</td>\n",
       "      <td>m</td>\n",
       "      <td>dev</td>\n",
       "    </tr>\n",
       "  </tbody>\n",
       "</table>\n",
       "</div>"
      ],
      "text/plain": [
       "   user_id gender   set\n",
       "0  id00012      m   dev\n",
       "1  id00015      m   dev\n",
       "2  id00016      m   dev\n",
       "3  id00017      m  test\n",
       "4  id00018      m   dev"
      ]
     },
     "execution_count": 5,
     "metadata": {},
     "output_type": "execute_result"
    }
   ],
   "source": [
    "voxceleb2_metadata = pd.read_csv(get_voxceleb2_metadata_path(), sep=',')\n",
    "voxceleb2_metadata = voxceleb2_metadata.drop(columns=[\"VGGFace2 ID \"], axis=1).rename(\n",
    "    columns={\"VoxCeleb2 ID \": \"user_id\", \"Gender \": \"gender\", \"Set \": \"set\"})\n",
    "voxceleb2_metadata[\"user_id\"] = voxceleb2_metadata[\"user_id\"].str.strip()\n",
    "voxceleb2_metadata[\"gender\"] = voxceleb2_metadata[\"gender\"].str.strip()\n",
    "voxceleb2_metadata[\"set\"] = voxceleb2_metadata[\"set\"].str.strip()\n",
    "\n",
    "voxceleb2_metadata.head()"
   ]
  },
  {
   "cell_type": "code",
   "execution_count": 8,
   "id": "17ad2aa064c38ace",
   "metadata": {
    "ExecuteTime": {
     "end_time": "2024-05-12T11:47:32.038283Z",
     "start_time": "2024-05-12T11:47:32.035888Z"
    }
   },
   "outputs": [
    {
     "data": {
      "text/plain": [
       "PosixPath('/Users/jjaniak/Documents/studia/biometria/projekt2/VoiceAuthenticator/data/vox2_test/wav')"
      ]
     },
     "execution_count": 8,
     "metadata": {},
     "output_type": "execute_result"
    }
   ],
   "source": [
    "voxceleb2_path = get_voxceleb2_wav_path()\n",
    "voxceleb2_path"
   ]
  },
  {
   "cell_type": "code",
   "execution_count": 9,
   "id": "a283291abbc3b9",
   "metadata": {
    "ExecuteTime": {
     "end_time": "2024-05-12T11:47:32.948056Z",
     "start_time": "2024-05-12T11:47:32.945611Z"
    }
   },
   "outputs": [
    {
     "data": {
      "text/plain": [
       "<generator object Path.iterdir at 0x168616b20>"
      ]
     },
     "execution_count": 9,
     "metadata": {},
     "output_type": "execute_result"
    }
   ],
   "source": [
    "id_paths = voxceleb2_path.iterdir()"
   ]
  },
  {
   "cell_type": "code",
   "execution_count": 13,
   "id": "1a308d5f",
   "metadata": {},
   "outputs": [],
   "source": [
    "import random\n",
    "\n",
    "id_paths_list = list(voxceleb2_path.iterdir())\n",
    "random_ids = random.sample(id_paths_list, 40)\n"
   ]
  },
  {
   "cell_type": "code",
   "execution_count": 14,
   "id": "40b2df4131bd2cb6",
   "metadata": {
    "ExecuteTime": {
     "end_time": "2024-05-12T11:47:33.927060Z",
     "start_time": "2024-05-12T11:47:33.924741Z"
    }
   },
   "outputs": [],
   "source": [
    "annotations: List[Dict[str, any]] = []"
   ]
  },
  {
   "cell_type": "code",
   "execution_count": 23,
   "id": "d85e80a30a965061",
   "metadata": {
    "ExecuteTime": {
     "end_time": "2024-05-12T11:47:35.108880Z",
     "start_time": "2024-05-12T11:47:34.644482Z"
    }
   },
   "outputs": [],
   "source": [
    "import os\n",
    "\n",
    "wav_file_path = get_voxceleb2_wav_path()\n",
    "\n",
    "for id_path in random_ids:\n",
    "    if id_path.stem not in [id_path.stem for id_path in random_ids]:\n",
    "        continue\n",
    "    create_wav_dir_if_not_exists(id_path.name)\n",
    "    sample_paths = list(id_path.iterdir())\n",
    "    \n",
    "    for sample_path in sample_paths[:5]:\n",
    "        wav_dir = os.path.join(get_voxceleb2_wav_path(), f\"{id_path.name}/{sample_path.name}\")\n",
    "        os.makedirs(wav_dir, exist_ok=True)\n",
    "        wav_paths = sample_path.iterdir()\n",
    "        for wav_path in wav_paths:\n",
    "            annotations.append(\n",
    "                {\n",
    "                    \"wav_path\": f\"/data/vox2_test/wav/{id_path.name}/{sample_path.name}/{wav_path.stem}.wav\",\n",
    "                    \"user_id\": id_path.stem\n",
    "                }\n",
    "            )\n",
    "            "
   ]
  },
  {
   "cell_type": "code",
   "execution_count": 24,
   "id": "3015403f341102cf",
   "metadata": {
    "ExecuteTime": {
     "end_time": "2024-05-12T11:47:36.239959Z",
     "start_time": "2024-05-12T11:47:36.237147Z"
    }
   },
   "outputs": [
    {
     "data": {
      "text/plain": [
       "1341"
      ]
     },
     "execution_count": 24,
     "metadata": {},
     "output_type": "execute_result"
    }
   ],
   "source": [
    "len(annotations)"
   ]
  },
  {
   "cell_type": "code",
   "execution_count": 25,
   "id": "b52e89a50daf3785",
   "metadata": {
    "ExecuteTime": {
     "end_time": "2024-05-12T11:47:38.898866Z",
     "start_time": "2024-05-12T11:47:38.881185Z"
    }
   },
   "outputs": [],
   "source": [
    "voxceleb2_user_to_metadata = voxceleb2_metadata[[\"user_id\", \"gender\"]].drop_duplicates().set_index(\"user_id\").to_dict(orient=\"index\")"
   ]
  },
  {
   "cell_type": "code",
   "execution_count": 26,
   "id": "8620035b8689511",
   "metadata": {
    "ExecuteTime": {
     "end_time": "2024-05-12T11:47:43.751914Z",
     "start_time": "2024-05-12T11:47:43.746057Z"
    }
   },
   "outputs": [],
   "source": [
    "for annotation in annotations:\n",
    "    annotation[\"gender\"] = voxceleb2_user_to_metadata[annotation[\"user_id\"]][\"gender\"]"
   ]
  },
  {
   "cell_type": "code",
   "execution_count": 29,
   "id": "6c68555f62b3468",
   "metadata": {
    "ExecuteTime": {
     "end_time": "2024-05-12T11:49:57.493217Z",
     "start_time": "2024-05-12T11:49:57.414600Z"
    }
   },
   "outputs": [],
   "source": [
    "pd.DataFrame(annotations).to_json(get_data_file_path(\"annotations_original.json\"), orient=\"records\", default_handler=str)"
   ]
  },
  {
   "cell_type": "code",
   "execution_count": null,
   "id": "c737e8f5",
   "metadata": {},
   "outputs": [],
   "source": []
  }
 ],
 "metadata": {
  "kernelspec": {
   "display_name": "Python 3",
   "language": "python",
   "name": "python3"
  },
  "language_info": {
   "codemirror_mode": {
    "name": "ipython",
    "version": 3
   },
   "file_extension": ".py",
   "mimetype": "text/x-python",
   "name": "python",
   "nbconvert_exporter": "python",
   "pygments_lexer": "ipython3",
   "version": "3.11.9"
  }
 },
 "nbformat": 4,
 "nbformat_minor": 5
}
