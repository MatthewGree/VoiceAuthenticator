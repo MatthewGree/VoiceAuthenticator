{
 "cells": [
  {
   "cell_type": "code",
   "id": "initial_id",
   "metadata": {
    "collapsed": true,
    "ExecuteTime": {
     "end_time": "2024-05-06T23:59:21.279245Z",
     "start_time": "2024-05-06T23:59:21.110411Z"
    }
   },
   "source": [
    "from src.config.root_path import get_project_root_path\n",
    "from src.annotate_data.annotate_from_path import data_path_to_annotation_list\n",
    "import pandas as pd"
   ],
   "outputs": [],
   "execution_count": 1
  },
  {
   "metadata": {
    "ExecuteTime": {
     "end_time": "2024-05-06T23:59:22.353763Z",
     "start_time": "2024-05-06T23:59:22.351788Z"
    }
   },
   "cell_type": "code",
   "source": "root_path = get_project_root_path()",
   "id": "2369fea4a9c759d7",
   "outputs": [],
   "execution_count": 2
  },
  {
   "metadata": {
    "ExecuteTime": {
     "end_time": "2024-05-06T23:59:22.774214Z",
     "start_time": "2024-05-06T23:59:22.771971Z"
    }
   },
   "cell_type": "code",
   "source": "data_path = root_path / \"data\"",
   "id": "a757ab42f69e449f",
   "outputs": [],
   "execution_count": 3
  },
  {
   "metadata": {
    "ExecuteTime": {
     "end_time": "2024-05-07T00:06:01.688431Z",
     "start_time": "2024-05-07T00:06:01.684010Z"
    }
   },
   "cell_type": "code",
   "source": "metadata = pd.read_csv(data_path / \"vox1_vox1_meta.csv\", sep='\\t', dtype={\"user_id\": str})",
   "id": "fa7a9da71b734455",
   "outputs": [],
   "execution_count": 21
  },
  {
   "metadata": {
    "ExecuteTime": {
     "end_time": "2024-05-07T00:06:02.583926Z",
     "start_time": "2024-05-07T00:06:02.578076Z"
    }
   },
   "cell_type": "code",
   "source": "metadata",
   "id": "29046efef49cb4d",
   "outputs": [
    {
     "data": {
      "text/plain": [
       "      user_id       user_name gender nationality  set\n",
       "0     id10001    A.J._Buckley      m     Ireland  dev\n",
       "1     id10002     A.R._Rahman      m       India  dev\n",
       "2     id10003      Aamir_Khan      m       India  dev\n",
       "3     id10004     Aaron_Tveit      m         USA  dev\n",
       "4     id10005       Aaron_Yoo      m         USA  dev\n",
       "...       ...             ...    ...         ...  ...\n",
       "1246  id11247    Zachary_Levi      m         USA  dev\n",
       "1247  id11248  Zachary_Quinto      m         USA  dev\n",
       "1248  id11249     Zack_Snyder      m         USA  dev\n",
       "1249  id11250     Zoe_Saldana      f         USA  dev\n",
       "1250  id11251     Zulay_Henao      f         USA  dev\n",
       "\n",
       "[1251 rows x 5 columns]"
      ],
      "text/html": [
       "<div>\n",
       "<style scoped>\n",
       "    .dataframe tbody tr th:only-of-type {\n",
       "        vertical-align: middle;\n",
       "    }\n",
       "\n",
       "    .dataframe tbody tr th {\n",
       "        vertical-align: top;\n",
       "    }\n",
       "\n",
       "    .dataframe thead th {\n",
       "        text-align: right;\n",
       "    }\n",
       "</style>\n",
       "<table border=\"1\" class=\"dataframe\">\n",
       "  <thead>\n",
       "    <tr style=\"text-align: right;\">\n",
       "      <th></th>\n",
       "      <th>user_id</th>\n",
       "      <th>user_name</th>\n",
       "      <th>gender</th>\n",
       "      <th>nationality</th>\n",
       "      <th>set</th>\n",
       "    </tr>\n",
       "  </thead>\n",
       "  <tbody>\n",
       "    <tr>\n",
       "      <th>0</th>\n",
       "      <td>id10001</td>\n",
       "      <td>A.J._Buckley</td>\n",
       "      <td>m</td>\n",
       "      <td>Ireland</td>\n",
       "      <td>dev</td>\n",
       "    </tr>\n",
       "    <tr>\n",
       "      <th>1</th>\n",
       "      <td>id10002</td>\n",
       "      <td>A.R._Rahman</td>\n",
       "      <td>m</td>\n",
       "      <td>India</td>\n",
       "      <td>dev</td>\n",
       "    </tr>\n",
       "    <tr>\n",
       "      <th>2</th>\n",
       "      <td>id10003</td>\n",
       "      <td>Aamir_Khan</td>\n",
       "      <td>m</td>\n",
       "      <td>India</td>\n",
       "      <td>dev</td>\n",
       "    </tr>\n",
       "    <tr>\n",
       "      <th>3</th>\n",
       "      <td>id10004</td>\n",
       "      <td>Aaron_Tveit</td>\n",
       "      <td>m</td>\n",
       "      <td>USA</td>\n",
       "      <td>dev</td>\n",
       "    </tr>\n",
       "    <tr>\n",
       "      <th>4</th>\n",
       "      <td>id10005</td>\n",
       "      <td>Aaron_Yoo</td>\n",
       "      <td>m</td>\n",
       "      <td>USA</td>\n",
       "      <td>dev</td>\n",
       "    </tr>\n",
       "    <tr>\n",
       "      <th>...</th>\n",
       "      <td>...</td>\n",
       "      <td>...</td>\n",
       "      <td>...</td>\n",
       "      <td>...</td>\n",
       "      <td>...</td>\n",
       "    </tr>\n",
       "    <tr>\n",
       "      <th>1246</th>\n",
       "      <td>id11247</td>\n",
       "      <td>Zachary_Levi</td>\n",
       "      <td>m</td>\n",
       "      <td>USA</td>\n",
       "      <td>dev</td>\n",
       "    </tr>\n",
       "    <tr>\n",
       "      <th>1247</th>\n",
       "      <td>id11248</td>\n",
       "      <td>Zachary_Quinto</td>\n",
       "      <td>m</td>\n",
       "      <td>USA</td>\n",
       "      <td>dev</td>\n",
       "    </tr>\n",
       "    <tr>\n",
       "      <th>1248</th>\n",
       "      <td>id11249</td>\n",
       "      <td>Zack_Snyder</td>\n",
       "      <td>m</td>\n",
       "      <td>USA</td>\n",
       "      <td>dev</td>\n",
       "    </tr>\n",
       "    <tr>\n",
       "      <th>1249</th>\n",
       "      <td>id11250</td>\n",
       "      <td>Zoe_Saldana</td>\n",
       "      <td>f</td>\n",
       "      <td>USA</td>\n",
       "      <td>dev</td>\n",
       "    </tr>\n",
       "    <tr>\n",
       "      <th>1250</th>\n",
       "      <td>id11251</td>\n",
       "      <td>Zulay_Henao</td>\n",
       "      <td>f</td>\n",
       "      <td>USA</td>\n",
       "      <td>dev</td>\n",
       "    </tr>\n",
       "  </tbody>\n",
       "</table>\n",
       "<p>1251 rows × 5 columns</p>\n",
       "</div>"
      ]
     },
     "execution_count": 22,
     "metadata": {},
     "output_type": "execute_result"
    }
   ],
   "execution_count": 22
  },
  {
   "metadata": {
    "ExecuteTime": {
     "end_time": "2024-05-07T00:00:57.606995Z",
     "start_time": "2024-05-07T00:00:57.579437Z"
    }
   },
   "cell_type": "code",
   "source": "annotations_train = data_path_to_annotation_list(data_path / \"vox1_test_wav\", \"train\")",
   "id": "237a4789e19c001c",
   "outputs": [],
   "execution_count": 11
  },
  {
   "metadata": {
    "ExecuteTime": {
     "end_time": "2024-05-07T00:00:59.638643Z",
     "start_time": "2024-05-07T00:00:58.904822Z"
    }
   },
   "cell_type": "code",
   "source": "annotations_test = data_path_to_annotation_list(data_path / \"vox1_dev_wav\", \"test\")",
   "id": "a6733b43970c6d65",
   "outputs": [],
   "execution_count": 12
  },
  {
   "metadata": {
    "ExecuteTime": {
     "end_time": "2024-05-07T00:01:27.427332Z",
     "start_time": "2024-05-07T00:01:27.424393Z"
    }
   },
   "cell_type": "code",
   "source": "all_annotations = [*annotations_train, *annotations_test]",
   "id": "bd9791b8f9838b36",
   "outputs": [],
   "execution_count": 14
  },
  {
   "metadata": {
    "ExecuteTime": {
     "end_time": "2024-05-07T00:02:02.648085Z",
     "start_time": "2024-05-07T00:02:02.602281Z"
    }
   },
   "cell_type": "code",
   "source": "annotations_df = pd.DataFrame(all_annotations)",
   "id": "9b24ba8edc485f",
   "outputs": [],
   "execution_count": 16
  },
  {
   "metadata": {
    "ExecuteTime": {
     "end_time": "2024-05-07T00:02:11.379943Z",
     "start_time": "2024-05-07T00:02:11.374997Z"
    }
   },
   "cell_type": "code",
   "source": "annotations_df.head()",
   "id": "9e006d6f56f7f4dd",
   "outputs": [
    {
     "data": {
      "text/plain": [
       "                                            wav_path  user_id  split\n",
       "0  /home/mateusz/ai/biometry/VoiceAuthenticatior/...  id10277  train\n",
       "1  /home/mateusz/ai/biometry/VoiceAuthenticatior/...  id10277  train\n",
       "2  /home/mateusz/ai/biometry/VoiceAuthenticatior/...  id10277  train\n",
       "3  /home/mateusz/ai/biometry/VoiceAuthenticatior/...  id10277  train\n",
       "4  /home/mateusz/ai/biometry/VoiceAuthenticatior/...  id10277  train"
      ],
      "text/html": [
       "<div>\n",
       "<style scoped>\n",
       "    .dataframe tbody tr th:only-of-type {\n",
       "        vertical-align: middle;\n",
       "    }\n",
       "\n",
       "    .dataframe tbody tr th {\n",
       "        vertical-align: top;\n",
       "    }\n",
       "\n",
       "    .dataframe thead th {\n",
       "        text-align: right;\n",
       "    }\n",
       "</style>\n",
       "<table border=\"1\" class=\"dataframe\">\n",
       "  <thead>\n",
       "    <tr style=\"text-align: right;\">\n",
       "      <th></th>\n",
       "      <th>wav_path</th>\n",
       "      <th>user_id</th>\n",
       "      <th>split</th>\n",
       "    </tr>\n",
       "  </thead>\n",
       "  <tbody>\n",
       "    <tr>\n",
       "      <th>0</th>\n",
       "      <td>/home/mateusz/ai/biometry/VoiceAuthenticatior/...</td>\n",
       "      <td>id10277</td>\n",
       "      <td>train</td>\n",
       "    </tr>\n",
       "    <tr>\n",
       "      <th>1</th>\n",
       "      <td>/home/mateusz/ai/biometry/VoiceAuthenticatior/...</td>\n",
       "      <td>id10277</td>\n",
       "      <td>train</td>\n",
       "    </tr>\n",
       "    <tr>\n",
       "      <th>2</th>\n",
       "      <td>/home/mateusz/ai/biometry/VoiceAuthenticatior/...</td>\n",
       "      <td>id10277</td>\n",
       "      <td>train</td>\n",
       "    </tr>\n",
       "    <tr>\n",
       "      <th>3</th>\n",
       "      <td>/home/mateusz/ai/biometry/VoiceAuthenticatior/...</td>\n",
       "      <td>id10277</td>\n",
       "      <td>train</td>\n",
       "    </tr>\n",
       "    <tr>\n",
       "      <th>4</th>\n",
       "      <td>/home/mateusz/ai/biometry/VoiceAuthenticatior/...</td>\n",
       "      <td>id10277</td>\n",
       "      <td>train</td>\n",
       "    </tr>\n",
       "  </tbody>\n",
       "</table>\n",
       "</div>"
      ]
     },
     "execution_count": 17,
     "metadata": {},
     "output_type": "execute_result"
    }
   ],
   "execution_count": 17
  },
  {
   "metadata": {
    "ExecuteTime": {
     "end_time": "2024-05-07T00:12:00.942868Z",
     "start_time": "2024-05-07T00:12:00.922743Z"
    }
   },
   "cell_type": "code",
   "source": "annotations_with_metadata = pd.merge(annotations_df, metadata, on=\"user_id\", how=\"left\")",
   "id": "ae4f3825414e719f",
   "outputs": [],
   "execution_count": 26
  },
  {
   "metadata": {
    "ExecuteTime": {
     "end_time": "2024-05-07T00:13:23.783493Z",
     "start_time": "2024-05-07T00:13:23.776884Z"
    }
   },
   "cell_type": "code",
   "source": "annotations_with_metadata.head(5)",
   "id": "323e8dc02cafa4ef",
   "outputs": [
    {
     "data": {
      "text/plain": [
       "                                            wav_path  user_id  split  \\\n",
       "0  /home/mateusz/ai/biometry/VoiceAuthenticatior/...  id10277  train   \n",
       "1  /home/mateusz/ai/biometry/VoiceAuthenticatior/...  id10277  train   \n",
       "2  /home/mateusz/ai/biometry/VoiceAuthenticatior/...  id10277  train   \n",
       "3  /home/mateusz/ai/biometry/VoiceAuthenticatior/...  id10277  train   \n",
       "4  /home/mateusz/ai/biometry/VoiceAuthenticatior/...  id10277  train   \n",
       "\n",
       "         user_name gender nationality   set  \n",
       "0  Eduardo_Noriega      m       Spain  test  \n",
       "1  Eduardo_Noriega      m       Spain  test  \n",
       "2  Eduardo_Noriega      m       Spain  test  \n",
       "3  Eduardo_Noriega      m       Spain  test  \n",
       "4  Eduardo_Noriega      m       Spain  test  "
      ],
      "text/html": [
       "<div>\n",
       "<style scoped>\n",
       "    .dataframe tbody tr th:only-of-type {\n",
       "        vertical-align: middle;\n",
       "    }\n",
       "\n",
       "    .dataframe tbody tr th {\n",
       "        vertical-align: top;\n",
       "    }\n",
       "\n",
       "    .dataframe thead th {\n",
       "        text-align: right;\n",
       "    }\n",
       "</style>\n",
       "<table border=\"1\" class=\"dataframe\">\n",
       "  <thead>\n",
       "    <tr style=\"text-align: right;\">\n",
       "      <th></th>\n",
       "      <th>wav_path</th>\n",
       "      <th>user_id</th>\n",
       "      <th>split</th>\n",
       "      <th>user_name</th>\n",
       "      <th>gender</th>\n",
       "      <th>nationality</th>\n",
       "      <th>set</th>\n",
       "    </tr>\n",
       "  </thead>\n",
       "  <tbody>\n",
       "    <tr>\n",
       "      <th>0</th>\n",
       "      <td>/home/mateusz/ai/biometry/VoiceAuthenticatior/...</td>\n",
       "      <td>id10277</td>\n",
       "      <td>train</td>\n",
       "      <td>Eduardo_Noriega</td>\n",
       "      <td>m</td>\n",
       "      <td>Spain</td>\n",
       "      <td>test</td>\n",
       "    </tr>\n",
       "    <tr>\n",
       "      <th>1</th>\n",
       "      <td>/home/mateusz/ai/biometry/VoiceAuthenticatior/...</td>\n",
       "      <td>id10277</td>\n",
       "      <td>train</td>\n",
       "      <td>Eduardo_Noriega</td>\n",
       "      <td>m</td>\n",
       "      <td>Spain</td>\n",
       "      <td>test</td>\n",
       "    </tr>\n",
       "    <tr>\n",
       "      <th>2</th>\n",
       "      <td>/home/mateusz/ai/biometry/VoiceAuthenticatior/...</td>\n",
       "      <td>id10277</td>\n",
       "      <td>train</td>\n",
       "      <td>Eduardo_Noriega</td>\n",
       "      <td>m</td>\n",
       "      <td>Spain</td>\n",
       "      <td>test</td>\n",
       "    </tr>\n",
       "    <tr>\n",
       "      <th>3</th>\n",
       "      <td>/home/mateusz/ai/biometry/VoiceAuthenticatior/...</td>\n",
       "      <td>id10277</td>\n",
       "      <td>train</td>\n",
       "      <td>Eduardo_Noriega</td>\n",
       "      <td>m</td>\n",
       "      <td>Spain</td>\n",
       "      <td>test</td>\n",
       "    </tr>\n",
       "    <tr>\n",
       "      <th>4</th>\n",
       "      <td>/home/mateusz/ai/biometry/VoiceAuthenticatior/...</td>\n",
       "      <td>id10277</td>\n",
       "      <td>train</td>\n",
       "      <td>Eduardo_Noriega</td>\n",
       "      <td>m</td>\n",
       "      <td>Spain</td>\n",
       "      <td>test</td>\n",
       "    </tr>\n",
       "  </tbody>\n",
       "</table>\n",
       "</div>"
      ]
     },
     "execution_count": 29,
     "metadata": {},
     "output_type": "execute_result"
    }
   ],
   "execution_count": 29
  },
  {
   "metadata": {
    "ExecuteTime": {
     "end_time": "2024-05-07T00:16:22.274022Z",
     "start_time": "2024-05-07T00:16:21.976808Z"
    }
   },
   "cell_type": "code",
   "source": "annotations_with_metadata.to_json(data_path / \"annotations_with_metadata.json\", orient=\"records\", index=False)",
   "id": "3bf79a1e858282d9",
   "outputs": [],
   "execution_count": 33
  },
  {
   "metadata": {},
   "cell_type": "code",
   "outputs": [],
   "execution_count": null,
   "source": "",
   "id": "2c9bf6ee554228d"
  }
 ],
 "metadata": {
  "kernelspec": {
   "display_name": "Python 3",
   "language": "python",
   "name": "python3"
  },
  "language_info": {
   "codemirror_mode": {
    "name": "ipython",
    "version": 2
   },
   "file_extension": ".py",
   "mimetype": "text/x-python",
   "name": "python",
   "nbconvert_exporter": "python",
   "pygments_lexer": "ipython2",
   "version": "2.7.6"
  }
 },
 "nbformat": 4,
 "nbformat_minor": 5
}
