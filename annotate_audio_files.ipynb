{
 "cells": [
  {
   "cell_type": "code",
   "id": "initial_id",
   "metadata": {
    "collapsed": true,
    "ExecuteTime": {
     "end_time": "2024-05-07T20:11:20.875633Z",
     "start_time": "2024-05-07T20:11:20.872941Z"
    }
   },
   "source": [
    "from src.config.root_path import get_project_root_path\n",
    "from src.annotate_data.annotate_from_path import data_path_to_annotation_list\n",
    "import pandas as pd"
   ],
   "outputs": [],
   "execution_count": 6
  },
  {
   "metadata": {
    "ExecuteTime": {
     "end_time": "2024-05-07T20:11:21.278914Z",
     "start_time": "2024-05-07T20:11:21.276743Z"
    }
   },
   "cell_type": "code",
   "source": "root_path = get_project_root_path()",
   "id": "2369fea4a9c759d7",
   "outputs": [],
   "execution_count": 7
  },
  {
   "metadata": {
    "ExecuteTime": {
     "end_time": "2024-05-07T20:11:21.753043Z",
     "start_time": "2024-05-07T20:11:21.750904Z"
    }
   },
   "cell_type": "code",
   "source": "data_path = root_path / \"data\"",
   "id": "a757ab42f69e449f",
   "outputs": [],
   "execution_count": 8
  },
  {
   "metadata": {
    "ExecuteTime": {
     "end_time": "2024-05-07T20:11:22.150994Z",
     "start_time": "2024-05-07T20:11:22.147516Z"
    }
   },
   "cell_type": "code",
   "source": "metadata = pd.read_csv(data_path / \"vox1_vox1_meta.csv\", sep='\\t')",
   "id": "fa7a9da71b734455",
   "outputs": [],
   "execution_count": 9
  },
  {
   "metadata": {
    "ExecuteTime": {
     "end_time": "2024-05-07T20:11:22.973988Z",
     "start_time": "2024-05-07T20:11:22.967500Z"
    }
   },
   "cell_type": "code",
   "source": "metadata.head()",
   "id": "29046efef49cb4d",
   "outputs": [
    {
     "data": {
      "text/plain": [
       "   user_id     user_name gender nationality  set\n",
       "0  id10001  A.J._Buckley      m     Ireland  dev\n",
       "1  id10002   A.R._Rahman      m       India  dev\n",
       "2  id10003    Aamir_Khan      m       India  dev\n",
       "3  id10004   Aaron_Tveit      m         USA  dev\n",
       "4  id10005     Aaron_Yoo      m         USA  dev"
      ],
      "text/html": [
       "<div>\n",
       "<style scoped>\n",
       "    .dataframe tbody tr th:only-of-type {\n",
       "        vertical-align: middle;\n",
       "    }\n",
       "\n",
       "    .dataframe tbody tr th {\n",
       "        vertical-align: top;\n",
       "    }\n",
       "\n",
       "    .dataframe thead th {\n",
       "        text-align: right;\n",
       "    }\n",
       "</style>\n",
       "<table border=\"1\" class=\"dataframe\">\n",
       "  <thead>\n",
       "    <tr style=\"text-align: right;\">\n",
       "      <th></th>\n",
       "      <th>user_id</th>\n",
       "      <th>user_name</th>\n",
       "      <th>gender</th>\n",
       "      <th>nationality</th>\n",
       "      <th>set</th>\n",
       "    </tr>\n",
       "  </thead>\n",
       "  <tbody>\n",
       "    <tr>\n",
       "      <th>0</th>\n",
       "      <td>id10001</td>\n",
       "      <td>A.J._Buckley</td>\n",
       "      <td>m</td>\n",
       "      <td>Ireland</td>\n",
       "      <td>dev</td>\n",
       "    </tr>\n",
       "    <tr>\n",
       "      <th>1</th>\n",
       "      <td>id10002</td>\n",
       "      <td>A.R._Rahman</td>\n",
       "      <td>m</td>\n",
       "      <td>India</td>\n",
       "      <td>dev</td>\n",
       "    </tr>\n",
       "    <tr>\n",
       "      <th>2</th>\n",
       "      <td>id10003</td>\n",
       "      <td>Aamir_Khan</td>\n",
       "      <td>m</td>\n",
       "      <td>India</td>\n",
       "      <td>dev</td>\n",
       "    </tr>\n",
       "    <tr>\n",
       "      <th>3</th>\n",
       "      <td>id10004</td>\n",
       "      <td>Aaron_Tveit</td>\n",
       "      <td>m</td>\n",
       "      <td>USA</td>\n",
       "      <td>dev</td>\n",
       "    </tr>\n",
       "    <tr>\n",
       "      <th>4</th>\n",
       "      <td>id10005</td>\n",
       "      <td>Aaron_Yoo</td>\n",
       "      <td>m</td>\n",
       "      <td>USA</td>\n",
       "      <td>dev</td>\n",
       "    </tr>\n",
       "  </tbody>\n",
       "</table>\n",
       "</div>"
      ]
     },
     "execution_count": 10,
     "metadata": {},
     "output_type": "execute_result"
    }
   ],
   "execution_count": 10
  },
  {
   "metadata": {
    "ExecuteTime": {
     "end_time": "2024-05-07T20:11:30.109813Z",
     "start_time": "2024-05-07T20:11:29.405752Z"
    }
   },
   "cell_type": "code",
   "source": "annotations_train = data_path_to_annotation_list(data_path / \"vox1_dev_wav\", \"train\")",
   "id": "237a4789e19c001c",
   "outputs": [],
   "execution_count": 11
  },
  {
   "metadata": {
    "ExecuteTime": {
     "end_time": "2024-05-07T20:11:30.577232Z",
     "start_time": "2024-05-07T20:11:30.542826Z"
    }
   },
   "cell_type": "code",
   "source": "annotations_test = data_path_to_annotation_list(data_path / \"vox1_test_wav\", \"test\")",
   "id": "a6733b43970c6d65",
   "outputs": [],
   "execution_count": 12
  },
  {
   "metadata": {
    "ExecuteTime": {
     "end_time": "2024-05-07T20:11:31.236816Z",
     "start_time": "2024-05-07T20:11:31.232884Z"
    }
   },
   "cell_type": "code",
   "source": "all_annotations = [*annotations_train, *annotations_test]",
   "id": "bd9791b8f9838b36",
   "outputs": [],
   "execution_count": 13
  },
  {
   "metadata": {
    "ExecuteTime": {
     "end_time": "2024-05-07T20:11:31.743053Z",
     "start_time": "2024-05-07T20:11:31.694178Z"
    }
   },
   "cell_type": "code",
   "source": "annotations_df = pd.DataFrame(all_annotations)",
   "id": "9b24ba8edc485f",
   "outputs": [],
   "execution_count": 14
  },
  {
   "metadata": {
    "ExecuteTime": {
     "end_time": "2024-05-07T20:11:33.419913Z",
     "start_time": "2024-05-07T20:11:33.415392Z"
    }
   },
   "cell_type": "code",
   "source": "annotations_df.head()",
   "id": "9e006d6f56f7f4dd",
   "outputs": [
    {
     "data": {
      "text/plain": [
       "                                            wav_path  user_id  split\n",
       "0  /home/mateusz/ai/biometry/VoiceAuthenticatior/...  id10092  train\n",
       "1  /home/mateusz/ai/biometry/VoiceAuthenticatior/...  id10092  train\n",
       "2  /home/mateusz/ai/biometry/VoiceAuthenticatior/...  id10092  train\n",
       "3  /home/mateusz/ai/biometry/VoiceAuthenticatior/...  id10092  train\n",
       "4  /home/mateusz/ai/biometry/VoiceAuthenticatior/...  id10092  train"
      ],
      "text/html": [
       "<div>\n",
       "<style scoped>\n",
       "    .dataframe tbody tr th:only-of-type {\n",
       "        vertical-align: middle;\n",
       "    }\n",
       "\n",
       "    .dataframe tbody tr th {\n",
       "        vertical-align: top;\n",
       "    }\n",
       "\n",
       "    .dataframe thead th {\n",
       "        text-align: right;\n",
       "    }\n",
       "</style>\n",
       "<table border=\"1\" class=\"dataframe\">\n",
       "  <thead>\n",
       "    <tr style=\"text-align: right;\">\n",
       "      <th></th>\n",
       "      <th>wav_path</th>\n",
       "      <th>user_id</th>\n",
       "      <th>split</th>\n",
       "    </tr>\n",
       "  </thead>\n",
       "  <tbody>\n",
       "    <tr>\n",
       "      <th>0</th>\n",
       "      <td>/home/mateusz/ai/biometry/VoiceAuthenticatior/...</td>\n",
       "      <td>id10092</td>\n",
       "      <td>train</td>\n",
       "    </tr>\n",
       "    <tr>\n",
       "      <th>1</th>\n",
       "      <td>/home/mateusz/ai/biometry/VoiceAuthenticatior/...</td>\n",
       "      <td>id10092</td>\n",
       "      <td>train</td>\n",
       "    </tr>\n",
       "    <tr>\n",
       "      <th>2</th>\n",
       "      <td>/home/mateusz/ai/biometry/VoiceAuthenticatior/...</td>\n",
       "      <td>id10092</td>\n",
       "      <td>train</td>\n",
       "    </tr>\n",
       "    <tr>\n",
       "      <th>3</th>\n",
       "      <td>/home/mateusz/ai/biometry/VoiceAuthenticatior/...</td>\n",
       "      <td>id10092</td>\n",
       "      <td>train</td>\n",
       "    </tr>\n",
       "    <tr>\n",
       "      <th>4</th>\n",
       "      <td>/home/mateusz/ai/biometry/VoiceAuthenticatior/...</td>\n",
       "      <td>id10092</td>\n",
       "      <td>train</td>\n",
       "    </tr>\n",
       "  </tbody>\n",
       "</table>\n",
       "</div>"
      ]
     },
     "execution_count": 15,
     "metadata": {},
     "output_type": "execute_result"
    }
   ],
   "execution_count": 15
  },
  {
   "metadata": {
    "ExecuteTime": {
     "end_time": "2024-05-07T20:11:35.732201Z",
     "start_time": "2024-05-07T20:11:35.709203Z"
    }
   },
   "cell_type": "code",
   "source": "annotations_with_metadata = pd.merge(annotations_df, metadata, on=\"user_id\", how=\"left\")",
   "id": "ae4f3825414e719f",
   "outputs": [],
   "execution_count": 16
  },
  {
   "metadata": {
    "ExecuteTime": {
     "end_time": "2024-05-07T20:11:36.962962Z",
     "start_time": "2024-05-07T20:11:36.953637Z"
    }
   },
   "cell_type": "code",
   "source": "annotations_with_metadata.head(5)",
   "id": "323e8dc02cafa4ef",
   "outputs": [
    {
     "data": {
      "text/plain": [
       "                                            wav_path  user_id  split  \\\n",
       "0  /home/mateusz/ai/biometry/VoiceAuthenticatior/...  id10092  train   \n",
       "1  /home/mateusz/ai/biometry/VoiceAuthenticatior/...  id10092  train   \n",
       "2  /home/mateusz/ai/biometry/VoiceAuthenticatior/...  id10092  train   \n",
       "3  /home/mateusz/ai/biometry/VoiceAuthenticatior/...  id10092  train   \n",
       "4  /home/mateusz/ai/biometry/VoiceAuthenticatior/...  id10092  train   \n",
       "\n",
       "     user_name gender nationality  set  \n",
       "0  Bingbing_Li      f       China  dev  \n",
       "1  Bingbing_Li      f       China  dev  \n",
       "2  Bingbing_Li      f       China  dev  \n",
       "3  Bingbing_Li      f       China  dev  \n",
       "4  Bingbing_Li      f       China  dev  "
      ],
      "text/html": [
       "<div>\n",
       "<style scoped>\n",
       "    .dataframe tbody tr th:only-of-type {\n",
       "        vertical-align: middle;\n",
       "    }\n",
       "\n",
       "    .dataframe tbody tr th {\n",
       "        vertical-align: top;\n",
       "    }\n",
       "\n",
       "    .dataframe thead th {\n",
       "        text-align: right;\n",
       "    }\n",
       "</style>\n",
       "<table border=\"1\" class=\"dataframe\">\n",
       "  <thead>\n",
       "    <tr style=\"text-align: right;\">\n",
       "      <th></th>\n",
       "      <th>wav_path</th>\n",
       "      <th>user_id</th>\n",
       "      <th>split</th>\n",
       "      <th>user_name</th>\n",
       "      <th>gender</th>\n",
       "      <th>nationality</th>\n",
       "      <th>set</th>\n",
       "    </tr>\n",
       "  </thead>\n",
       "  <tbody>\n",
       "    <tr>\n",
       "      <th>0</th>\n",
       "      <td>/home/mateusz/ai/biometry/VoiceAuthenticatior/...</td>\n",
       "      <td>id10092</td>\n",
       "      <td>train</td>\n",
       "      <td>Bingbing_Li</td>\n",
       "      <td>f</td>\n",
       "      <td>China</td>\n",
       "      <td>dev</td>\n",
       "    </tr>\n",
       "    <tr>\n",
       "      <th>1</th>\n",
       "      <td>/home/mateusz/ai/biometry/VoiceAuthenticatior/...</td>\n",
       "      <td>id10092</td>\n",
       "      <td>train</td>\n",
       "      <td>Bingbing_Li</td>\n",
       "      <td>f</td>\n",
       "      <td>China</td>\n",
       "      <td>dev</td>\n",
       "    </tr>\n",
       "    <tr>\n",
       "      <th>2</th>\n",
       "      <td>/home/mateusz/ai/biometry/VoiceAuthenticatior/...</td>\n",
       "      <td>id10092</td>\n",
       "      <td>train</td>\n",
       "      <td>Bingbing_Li</td>\n",
       "      <td>f</td>\n",
       "      <td>China</td>\n",
       "      <td>dev</td>\n",
       "    </tr>\n",
       "    <tr>\n",
       "      <th>3</th>\n",
       "      <td>/home/mateusz/ai/biometry/VoiceAuthenticatior/...</td>\n",
       "      <td>id10092</td>\n",
       "      <td>train</td>\n",
       "      <td>Bingbing_Li</td>\n",
       "      <td>f</td>\n",
       "      <td>China</td>\n",
       "      <td>dev</td>\n",
       "    </tr>\n",
       "    <tr>\n",
       "      <th>4</th>\n",
       "      <td>/home/mateusz/ai/biometry/VoiceAuthenticatior/...</td>\n",
       "      <td>id10092</td>\n",
       "      <td>train</td>\n",
       "      <td>Bingbing_Li</td>\n",
       "      <td>f</td>\n",
       "      <td>China</td>\n",
       "      <td>dev</td>\n",
       "    </tr>\n",
       "  </tbody>\n",
       "</table>\n",
       "</div>"
      ]
     },
     "execution_count": 17,
     "metadata": {},
     "output_type": "execute_result"
    }
   ],
   "execution_count": 17
  },
  {
   "metadata": {
    "ExecuteTime": {
     "end_time": "2024-05-07T20:11:48.667924Z",
     "start_time": "2024-05-07T20:11:48.377317Z"
    }
   },
   "cell_type": "code",
   "source": "annotations_with_metadata.to_json(data_path / \"annotations_with_metadata.json\", orient=\"records\", index=False)",
   "id": "3bf79a1e858282d9",
   "outputs": [],
   "execution_count": 18
  }
 ],
 "metadata": {
  "kernelspec": {
   "display_name": "Python 3",
   "language": "python",
   "name": "python3"
  },
  "language_info": {
   "codemirror_mode": {
    "name": "ipython",
    "version": 2
   },
   "file_extension": ".py",
   "mimetype": "text/x-python",
   "name": "python",
   "nbconvert_exporter": "python",
   "pygments_lexer": "ipython2",
   "version": "2.7.6"
  }
 },
 "nbformat": 4,
 "nbformat_minor": 5
}
